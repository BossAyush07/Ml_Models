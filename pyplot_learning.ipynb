{
  "nbformat": 4,
  "nbformat_minor": 0,
  "metadata": {
    "colab": {
      "name": "Untitled11.ipynb",
      "provenance": [],
      "authorship_tag": "ABX9TyMFXng/Ycmj3OxEk5O4BXUx",
      "include_colab_link": true
    },
    "kernelspec": {
      "name": "python3",
      "display_name": "Python 3"
    }
  },
  "cells": [
    {
      "cell_type": "markdown",
      "metadata": {
        "id": "view-in-github",
        "colab_type": "text"
      },
      "source": [
        "<a href=\"https://colab.research.google.com/github/BossAyush07/Ml_Models/blob/master/pyplot_learning.ipynb\" target=\"_parent\"><img src=\"https://colab.research.google.com/assets/colab-badge.svg\" alt=\"Open In Colab\"/></a>"
      ]
    },
    {
      "cell_type": "code",
      "metadata": {
        "id": "NMEpEljdz2OU"
      },
      "source": [
        "import numpy as np\r\n",
        "import pandas as pd\r\n",
        "from matplotlib import pyplot\r\n",
        "from scipy.optimize import curve_fit\r\n",
        "from numpy import arange\r\n",
        "import warnings"
      ],
      "execution_count": 3,
      "outputs": []
    },
    {
      "cell_type": "code",
      "metadata": {
        "id": "FOpuHk6P0Wee"
      },
      "source": [
        "df = pd.read_csv('longley.csv')\r\n",
        "data = df.values"
      ],
      "execution_count": 4,
      "outputs": []
    },
    {
      "cell_type": "code",
      "metadata": {
        "colab": {
          "base_uri": "https://localhost:8080/",
          "height": 195
        },
        "id": "d8GmiCL70oVI",
        "outputId": "ba4183ea-9e0a-47c0-b46f-b1736f0a246b"
      },
      "source": [
        "df.head()"
      ],
      "execution_count": 5,
      "outputs": [
        {
          "output_type": "execute_result",
          "data": {
            "text/html": [
              "<div>\n",
              "<style scoped>\n",
              "    .dataframe tbody tr th:only-of-type {\n",
              "        vertical-align: middle;\n",
              "    }\n",
              "\n",
              "    .dataframe tbody tr th {\n",
              "        vertical-align: top;\n",
              "    }\n",
              "\n",
              "    .dataframe thead th {\n",
              "        text-align: right;\n",
              "    }\n",
              "</style>\n",
              "<table border=\"1\" class=\"dataframe\">\n",
              "  <thead>\n",
              "    <tr style=\"text-align: right;\">\n",
              "      <th></th>\n",
              "      <th>83</th>\n",
              "      <th>234.289</th>\n",
              "      <th>235.6</th>\n",
              "      <th>159</th>\n",
              "      <th>107.608</th>\n",
              "      <th>1947</th>\n",
              "      <th>60.323</th>\n",
              "    </tr>\n",
              "  </thead>\n",
              "  <tbody>\n",
              "    <tr>\n",
              "      <th>0</th>\n",
              "      <td>88.5</td>\n",
              "      <td>259.426</td>\n",
              "      <td>232.5</td>\n",
              "      <td>145.6</td>\n",
              "      <td>108.632</td>\n",
              "      <td>1948</td>\n",
              "      <td>61.122</td>\n",
              "    </tr>\n",
              "    <tr>\n",
              "      <th>1</th>\n",
              "      <td>88.2</td>\n",
              "      <td>258.054</td>\n",
              "      <td>368.2</td>\n",
              "      <td>161.6</td>\n",
              "      <td>109.773</td>\n",
              "      <td>1949</td>\n",
              "      <td>60.171</td>\n",
              "    </tr>\n",
              "    <tr>\n",
              "      <th>2</th>\n",
              "      <td>89.5</td>\n",
              "      <td>284.599</td>\n",
              "      <td>335.1</td>\n",
              "      <td>165.0</td>\n",
              "      <td>110.929</td>\n",
              "      <td>1950</td>\n",
              "      <td>61.187</td>\n",
              "    </tr>\n",
              "    <tr>\n",
              "      <th>3</th>\n",
              "      <td>96.2</td>\n",
              "      <td>328.975</td>\n",
              "      <td>209.9</td>\n",
              "      <td>309.9</td>\n",
              "      <td>112.075</td>\n",
              "      <td>1951</td>\n",
              "      <td>63.221</td>\n",
              "    </tr>\n",
              "    <tr>\n",
              "      <th>4</th>\n",
              "      <td>98.1</td>\n",
              "      <td>346.999</td>\n",
              "      <td>193.2</td>\n",
              "      <td>359.4</td>\n",
              "      <td>113.270</td>\n",
              "      <td>1952</td>\n",
              "      <td>63.639</td>\n",
              "    </tr>\n",
              "  </tbody>\n",
              "</table>\n",
              "</div>"
            ],
            "text/plain": [
              "     83  234.289  235.6    159  107.608  1947  60.323\n",
              "0  88.5  259.426  232.5  145.6  108.632  1948  61.122\n",
              "1  88.2  258.054  368.2  161.6  109.773  1949  60.171\n",
              "2  89.5  284.599  335.1  165.0  110.929  1950  61.187\n",
              "3  96.2  328.975  209.9  309.9  112.075  1951  63.221\n",
              "4  98.1  346.999  193.2  359.4  113.270  1952  63.639"
            ]
          },
          "metadata": {
            "tags": []
          },
          "execution_count": 5
        }
      ]
    },
    {
      "cell_type": "code",
      "metadata": {
        "colab": {
          "base_uri": "https://localhost:8080/"
        },
        "id": "iSsfElDQ0qqU",
        "outputId": "206b59a1-4746-4ddc-cc67-1857615dcc8b"
      },
      "source": [
        "df.columns"
      ],
      "execution_count": 6,
      "outputs": [
        {
          "output_type": "execute_result",
          "data": {
            "text/plain": [
              "Index(['83', '234.289', '235.6', '159', '107.608', '1947', '60.323'], dtype='object')"
            ]
          },
          "metadata": {
            "tags": []
          },
          "execution_count": 6
        }
      ]
    },
    {
      "cell_type": "code",
      "metadata": {
        "id": "J-RrbjJn2rOe"
      },
      "source": [
        "x, y = data[:, 4], data[:, -1]"
      ],
      "execution_count": 7,
      "outputs": []
    },
    {
      "cell_type": "code",
      "metadata": {
        "id": "tFuZmBExhhJZ"
      },
      "source": [
        "def objective(x, a, b, c, d, e, f):\r\n",
        "\treturn (a * x) + (b * x**2) + (c * x**3) + (d * x**4) + (e * x**5) + f"
      ],
      "execution_count": 9,
      "outputs": []
    },
    {
      "cell_type": "code",
      "metadata": {
        "id": "ECHijB_nhjDA"
      },
      "source": [
        "# curve fit\r\n",
        "popt, _ = curve_fit(objective, x, y)"
      ],
      "execution_count": 10,
      "outputs": []
    },
    {
      "cell_type": "code",
      "metadata": {
        "id": "S_VqnQmGhjUn"
      },
      "source": [
        "# summarize the parameter values\r\n",
        "a, b, c, d, e, f = popt"
      ],
      "execution_count": 11,
      "outputs": []
    },
    {
      "cell_type": "code",
      "metadata": {
        "colab": {
          "base_uri": "https://localhost:8080/",
          "height": 282
        },
        "id": "LXWpuFLEhjxg",
        "outputId": "29b188f4-bbd5-4bac-be4c-2317ce177599"
      },
      "source": [
        "pyplot.scatter(x, y)"
      ],
      "execution_count": 12,
      "outputs": [
        {
          "output_type": "execute_result",
          "data": {
            "text/plain": [
              "<matplotlib.collections.PathCollection at 0x7feb95204278>"
            ]
          },
          "metadata": {
            "tags": []
          },
          "execution_count": 12
        },
        {
          "output_type": "display_data",
          "data": {
            "image/png": "[encoded data removed]",
            "text/plain": [
              "<Figure size 432x288 with 1 Axes>"
            ]
          },
          "metadata": {
            "tags": [],
            "needs_background": "light"
          }
        }
      ]
    },
    {
      "cell_type": "code",
      "metadata": {
        "id": "5wGzkZNehkAw"
      },
      "source": [
        "# define a sequence of inputs between the smallest and largest known inputs\r\n",
        "x_line = arange(min(x), max(x), 1)"
      ],
      "execution_count": 13,
      "outputs": []
    },
    {
      "cell_type": "code",
      "metadata": {
        "id": "7OJwg3mch3FP"
      },
      "source": [
        "# calculate the output for the range\r\n",
        "y_line = objective(x_line, a, b, c, d, e, f)"
      ],
      "execution_count": 14,
      "outputs": []
    },
    {
      "cell_type": "code",
      "metadata": {
        "colab": {
          "base_uri": "https://localhost:8080/",
          "height": 265
        },
        "id": "qDAuuff7h3WX",
        "outputId": "46ae2a3c-4eba-4b20-e351-01a7753538d7"
      },
      "source": [
        "# create a line plot for the mapping function\r\n",
        "pyplot.scatter(x, y)\r\n",
        "pyplot.plot(x_line, y_line, '--', color='red')\r\n",
        "pyplot.show()"
      ],
      "execution_count": 16,
      "outputs": [
        {
          "output_type": "display_data",
          "data": {
            "image/png": "[encoded data removed]",
            "text/plain": [
              "<Figure size 432x288 with 1 Axes>"
            ]
          },
          "metadata": {
            "tags": [],
            "needs_background": "light"
          }
        }
      ]
    },
    {
      "cell_type": "code",
      "metadata": {
        "colab": {
          "base_uri": "https://localhost:8080/"
        },
        "id": "6MJG0st63g7I",
        "outputId": "d127e0cc-ef5f-446d-cd14-bdc79c9e09df"
      },
      "source": [
        "z = np.polyfit(x, y, 2)\r\n",
        "z"
      ],
      "execution_count": 17,
      "outputs": [
        {
          "output_type": "execute_result",
          "data": {
            "text/plain": [
              "array([-1.39017111e-02,  3.78907591e+00, -1.87355947e+02])"
            ]
          },
          "metadata": {
            "tags": []
          },
          "execution_count": 17
        }
      ]
    },
    {
      "cell_type": "code",
      "metadata": {
        "id": "j3XY9esr6Agu",
        "colab": {
          "base_uri": "https://localhost:8080/"
        },
        "outputId": "af2a51b6-b00a-4e33-ec12-60733bfea8e9"
      },
      "source": [
        "p = np.poly1d(z)\r\n",
        "p(0.5)"
      ],
      "execution_count": 23,
      "outputs": [
        {
          "output_type": "execute_result",
          "data": {
            "text/plain": [
              "-185.46488464328334"
            ]
          },
          "metadata": {
            "tags": []
          },
          "execution_count": 23
        }
      ]
    },
    {
      "cell_type": "code",
      "metadata": {
        "id": "Mv3lqsQr7zH-"
      },
      "source": [
        "with warnings.catch_warnings():\r\n",
        "    warnings.simplefilter('ignore', np.RankWarning)\r\n",
        "    p30 = np.poly1d(np.polyfit(x, y, 30))"
      ],
      "execution_count": 21,
      "outputs": []
    },
    {
      "cell_type": "code",
      "metadata": {
        "colab": {
          "base_uri": "https://localhost:8080/",
          "height": 269
        },
        "id": "twTZLSz98ieV",
        "outputId": "197d5e94-a733-4335-80e8-ecba92363510"
      },
      "source": [
        "import matplotlib.pyplot as plt\r\n",
        "xp = np.linspace(-2, 6, 100)\r\n",
        "_ = plt.plot(x, y, '.', xp, p(xp), '-', xp, p30(xp), '--')\r\n",
        "plt.ylim(-2,2)\r\n",
        "plt.show()"
      ],
      "execution_count": 22,
      "outputs": [
        {
          "output_type": "display_data",
          "data": {
            "image/png": "[encoded data removed]",
            "text/plain": [
              "<Figure size 432x288 with 1 Axes>"
            ]
          },
          "metadata": {
            "tags": [],
            "needs_background": "light"
          }
        }
      ]
    }
  ]
}