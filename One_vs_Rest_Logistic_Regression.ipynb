{
  "nbformat": 4,
  "nbformat_minor": 0,
  "metadata": {
    "colab": {
      "name": "One vs Rest Logistic Regression",
      "provenance": [],
      "authorship_tag": "ABX9TyMIMKDspwoM57wxbjyOBQ/V",
      "include_colab_link": true
    },
    "kernelspec": {
      "name": "python3",
      "display_name": "Python 3"
    },
    "language_info": {
      "name": "python"
    }
  },
  "cells": [
    {
      "cell_type": "markdown",
      "metadata": {
        "id": "view-in-github",
        "colab_type": "text"
      },
      "source": [
        "<a href=\"https://colab.research.google.com/github/BossAyush07/Ml_Models/blob/master/One_vs_Rest_Logistic_Regression.ipynb\" target=\"_parent\"><img src=\"https://colab.research.google.com/assets/colab-badge.svg\" alt=\"Open In Colab\"/></a>"
      ]
    },
    {
      "cell_type": "markdown",
      "metadata": {
        "id": "gzYCM31ZQES0"
      },
      "source": [
        "## One Vs. Rest Logistic Regression\n",
        "* On their own, logistic regressions are only binary classifiers, meaning they cannot handle target vectors with more than two classes. However, there are clever extensions to logistic regression to do just that. In one-vs-rest logistic regression (OVR) a separate model is trained for each class predicted whether an observation is that class or not (thus making it a binary classification problem). It assumes that each classification problem (e.g. class 0 or not) is independent."
      ]
    },
    {
      "cell_type": "markdown",
      "metadata": {
        "id": "ZHwoHAuHPZdm"
      },
      "source": [
        "### Import important Libraries"
      ]
    },
    {
      "cell_type": "code",
      "metadata": {
        "id": "CDd1RQ6aPSX3"
      },
      "source": [
        "from sklearn.linear_model import LogisticRegression\n",
        "from sklearn import datasets\n",
        "from sklearn.preprocessing import StandardScaler"
      ],
      "execution_count": 1,
      "outputs": []
    },
    {
      "cell_type": "markdown",
      "metadata": {
        "id": "hzl7zmaUQPii"
      },
      "source": [
        "## Load Iris Flower Data"
      ]
    },
    {
      "cell_type": "code",
      "metadata": {
        "id": "3SHuhNUmP8EL"
      },
      "source": [
        "iris = datasets.load_iris()\n",
        "X = iris.data\n",
        "y = iris.target"
      ],
      "execution_count": 2,
      "outputs": []
    },
    {
      "cell_type": "markdown",
      "metadata": {
        "id": "gCRDv3qIQjYD"
      },
      "source": [
        "## Standardize Features"
      ]
    },
    {
      "cell_type": "code",
      "metadata": {
        "id": "X1INYeJXQhHd"
      },
      "source": [
        "import numpy as np\n",
        "import pandas as pd\n",
        "\n",
        "scaler = StandardScaler()\n",
        "X_std = scaler.fit_transform(X)"
      ],
      "execution_count": 13,
      "outputs": []
    },
    {
      "cell_type": "markdown",
      "metadata": {
        "id": "Fl5fEUeTQ86L"
      },
      "source": [
        "## Create One-Vs-Rest Logistic Regression"
      ]
    },
    {
      "cell_type": "code",
      "metadata": {
        "id": "ZFZEvQUYQ55p"
      },
      "source": [
        "clf = LogisticRegression(random_state=0, multi_class='ovr')\n"
      ],
      "execution_count": 15,
      "outputs": []
    },
    {
      "cell_type": "markdown",
      "metadata": {
        "id": "QXoSaBJtR0Dj"
      },
      "source": [
        "## Train One-Vs-Rest Logistic Regression\n"
      ]
    },
    {
      "cell_type": "code",
      "metadata": {
        "id": "MjYz4bYKRzXF"
      },
      "source": [
        "# Train model\n",
        "model = clf.fit(X_std, y)"
      ],
      "execution_count": 16,
      "outputs": []
    },
    {
      "cell_type": "markdown",
      "metadata": {
        "id": "JNlg_62FSf2L"
      },
      "source": [
        "### Create Previously Unseen Observation"
      ]
    },
    {
      "cell_type": "code",
      "metadata": {
        "id": "2KKSGlvMR76X"
      },
      "source": [
        "# Create new observation\n",
        "new_observation = [[.5, .5, .5, .5]]"
      ],
      "execution_count": 17,
      "outputs": []
    },
    {
      "cell_type": "markdown",
      "metadata": {
        "id": "nB0QvpXbSlqW"
      },
      "source": [
        "## Predict Observation’s Class"
      ]
    },
    {
      "cell_type": "code",
      "metadata": {
        "colab": {
          "base_uri": "https://localhost:8080/"
        },
        "id": "B58GVdgeSjZ0",
        "outputId": "c0044930-3abd-4c9e-cfa5-31ab5490fbea"
      },
      "source": [
        "# Predict class\n",
        "model.predict(new_observation)"
      ],
      "execution_count": 18,
      "outputs": [
        {
          "output_type": "execute_result",
          "data": {
            "text/plain": [
              "array([2])"
            ]
          },
          "metadata": {
            "tags": []
          },
          "execution_count": 18
        }
      ]
    },
    {
      "cell_type": "code",
      "metadata": {
        "colab": {
          "base_uri": "https://localhost:8080/"
        },
        "id": "NQ31NqFwSpDv",
        "outputId": "82f1b810-21f8-4f6b-abf5-171d10166c16"
      },
      "source": [
        "# View predicted probabilities\n",
        "model.predict_proba(new_observation)"
      ],
      "execution_count": 19,
      "outputs": [
        {
          "output_type": "execute_result",
          "data": {
            "text/plain": [
              "array([[0.0387617 , 0.40669108, 0.55454723]])"
            ]
          },
          "metadata": {
            "tags": []
          },
          "execution_count": 19
        }
      ]
    },
    {
      "cell_type": "code",
      "metadata": {
        "id": "ToDwEB3MSru0"
      },
      "source": [
        ""
      ],
      "execution_count": null,
      "outputs": []
    }
  ]
}